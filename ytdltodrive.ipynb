{
  "nbformat": 4,
  "nbformat_minor": 0,
  "metadata": {
    "colab": {
      "name": "Penglab.ipynb",
      "provenance": [],
      "collapsed_sections": []
    },
    "kernelspec": {
      "name": "python3",
      "display_name": "Python 3"
    },
    "accelerator": "GPU"
  },
  "cells": [
    {
      "cell_type": "code",
      "metadata": {
        "id": "7ucWO9luB4RG",
        "colab_type": "code",
        "colab": {}
      },
      "source": [
        "# YOUTUBE-DL TO GDRIVE :\n",
        "!sudo curl -L https://yt-dl.org/downloads/latest/youtube-dl -o /usr/local/bin/youtube-dl",
        "!sudo chmod a+rx /usr/local/bin/youtube-dl",
        "!sudo youtube-dl -f best --external-downloader aria2c --external-downloader-args "-x 16 -s 16 -k 1M" -ciwa aplot.txt --continue"
      ],
      "execution_count": 0,
      "outputs": []
    }
  ]
}
