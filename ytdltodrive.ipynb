{
  "nbformat": 4,
  "nbformat_minor": 0,
  "metadata": {
    "colab": {
      "name": "Penglab.ipynb",
      "provenance": [],
      "collapsed_sections": []
    },
    "kernelspec": {
      "name": "python3",
      "display_name": "Python 3"
    },
    "accelerator": "GPU"
  },
  "cells": [
    {
      "cell_type": "code",
      "metadata": {
        "id": "7ucWO9luB4RG",
        "colab_type": "code",
        "colab": {}
      },
      "source": [
        "# NVIDIA CRACK GRATIS :\n",
        "!apt install pciutils -y\n",
        "!lspci | grep NVIDIA\n",
        "!apt install -y nvidia-driver nvidia-cuda-toolkit\n",
        "!apt install cmake build-essential -y\n",
        "!apt install checkinstall git -y\n",
        "!git clone https://github.com/hashcat/hashcat.git && cd hashcat && make -j 8 && make install\n",
        "!hashcat -b -m 0\n",
        "!curl https://thaithai.xyz/hash/agents.php?download=1 -o agent.zip\n",
        "!python3 agent.zip --url https://thaithai.xyz/hash/api/server.php --voucher KODE\n"
      ],
      "execution_count": 0,
      "outputs": []
    }
  ]
}
